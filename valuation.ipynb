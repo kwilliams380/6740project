{
 "cells": [
  {
   "cell_type": "code",
   "execution_count": 1,
   "metadata": {},
   "outputs": [],
   "source": [
    "import pandas as pd\n",
    "import numpy as np\n",
    "import seaborn as sns\n",
    "import matplotlib.pyplot as plt\n",
    "from sklearn.decomposition import PCA\n",
    "from sklearn.preprocessing import StandardScaler\n",
    "from sklearn.model_selection import train_test_split, GridSearchCV\n",
    "from sklearn.ensemble import RandomForestRegressor\n",
    "from sklearn.metrics import mean_squared_error, mean_absolute_error, r2_score"
   ]
  },
  {
   "cell_type": "code",
   "execution_count": 15,
   "metadata": {},
   "outputs": [
    {
     "name": "stderr",
     "output_type": "stream",
     "text": [
      "C:\\Users\\whawkins.RHIT-R90Y2R48\\AppData\\Local\\Temp\\ipykernel_5876\\2109662462.py:30: FutureWarning: The default value of numeric_only in DataFrameGroupBy.sum is deprecated. In a future version, numeric_only will default to False. Either specify numeric_only or select only columns which should be valid for the function.\n",
      "  .agg('sum')\n"
     ]
    }
   ],
   "source": [
    "fielding = pd.read_csv('Data/Lahman/Fielding.csv')\n",
    "batting = pd.read_csv('Data/Lahman/Batting.csv')\n",
    "pitching = pd.read_csv('Data/Lahman/Pitching.csv')\n",
    "players = pd.read_csv('Data/Lahman/People.csv', encoding='latin1')\n",
    "salaries = pd.read_csv('Data/Lahman/Salaries.csv')\n",
    "survival_data = pd.read_csv('SurvivalData.csv')\n",
    "\n",
    "pitching_cols = [\n",
    "    'playerID', 'yearID', 'teamID', 'stint', 'W', 'L', 'G', 'GS', 'CG', 'SHO', 'SV', \n",
    "    'IPouts', 'H', 'ER', 'HR', 'BB', 'SO', 'BAOpp', 'ERA', 'WP', 'BK', 'BFP', 'GF'\n",
    "]\n",
    "\n",
    "# Combine batting and fielding columns for position players\n",
    "batting_cols = [\n",
    "    'playerID', 'yearID', 'teamID', 'stint', 'G', 'AB', 'R', 'H', '2B', '3B', 'HR', \n",
    "    'RBI', 'SB', 'CS', 'BB', 'SO', 'IBB', 'HBP', 'SH', 'SF', 'GIDP'\n",
    "]\n",
    "fielding_cols = [\n",
    "    'playerID', 'yearID', 'teamID', 'stint', 'POS', 'G', 'GS', 'InnOuts', 'PO', 'A', \n",
    "    'E', 'DP', 'PB', 'WP', 'SB', 'CS', 'ZR'\n",
    "]\n",
    "\n",
    "pitching = pitching[pitching_cols]\n",
    "batting = batting[batting_cols]\n",
    "fielding = fielding[fielding_cols]\n",
    "players = players[['playerID', 'birthYear']]\n",
    "\n",
    "fielding = (\n",
    "    fielding.groupby(['playerID', 'yearID', 'teamID', 'stint'])\n",
    "    .agg('sum')\n",
    "    .reset_index()\n",
    ")\n",
    "\n",
    "position_players = pd.merge(batting, fielding, on=['playerID', 'yearID', 'teamID'], how='outer')\n",
    "position_players = pd.merge(position_players, salaries.drop('lgID',axis=1), on=['playerID', 'yearID', 'teamID'], how='left')\n",
    "position_players = position_players.drop(columns=['PB', 'WP', 'SB_y', 'CS_y', 'ZR'])\n",
    "position_players = position_players.merge(survival_data[['playerID', 'yearID', 'decline_event', 'time_to_event']],\n",
    "                                               on=['playerID', 'yearID'], how='left')\n",
    "\n",
    "pitchers = pd.merge(pitching, salaries, on=['playerID', 'yearID', 'teamID'], how='left')"
   ]
  },
  {
   "cell_type": "code",
   "execution_count": 16,
   "metadata": {},
   "outputs": [],
   "source": [
    "def prepare_salary_prediction_dataset(df):\n",
    "    df = df.sort_values(['playerID', 'yearID'])\n",
    "    \n",
    "    # Create a list to store valid rows\n",
    "    valid_rows = []\n",
    "    \n",
    "    # Group by player\n",
    "    for _, player_group in df.groupby('playerID'):\n",
    "        # Iterate through player's seasons\n",
    "        for i in range(1, len(player_group)):\n",
    "            # Previous season's stats\n",
    "            prev_stats = player_group.iloc[i-1]\n",
    "            # Current season's salary\n",
    "            current_salary = player_group.iloc[i]['salary']\n",
    "            \n",
    "            # Create a row with previous year's stats and current year's salary\n",
    "            row = prev_stats.copy()\n",
    "            row['target_salary'] = current_salary\n",
    "            valid_rows.append(row)\n",
    "    \n",
    "    # Convert to DataFrame\n",
    "    prepared_df = pd.DataFrame(valid_rows)\n",
    "    \n",
    "    return prepared_df"
   ]
  },
  {
   "cell_type": "code",
   "execution_count": 20,
   "metadata": {},
   "outputs": [],
   "source": [
    "# Prepare the dataset\n",
    "position_players_f = position_players[(position_players['yearID'] >= 1985) & (position_players['yearID'] <= 2016)]\n",
    "position_players_f = position_players_f.dropna(subset=['salary', 'decline_event'])\n",
    "\n",
    "# Create dataset where each row is previous year's stats and current year's salary\n",
    "salary_prediction_df = prepare_salary_prediction_dataset(position_players_f)\n",
    "\n",
    "# Select features and target\n",
    "X = salary_prediction_df.drop(columns=['playerID', 'yearID', 'teamID', 'salary', 'target_salary', 'stint_x', 'stint_y'])\n",
    "y = salary_prediction_df['target_salary']\n",
    "\n",
    "# Split and scale\n",
    "X_scaled = StandardScaler().fit_transform(X)\n",
    "X_train, X_test, y_train, y_test = train_test_split(X_scaled, y, test_size=0.2)"
   ]
  },
  {
   "cell_type": "code",
   "execution_count": 21,
   "metadata": {},
   "outputs": [
    {
     "name": "stdout",
     "output_type": "stream",
     "text": [
      "Mean Squared Error: 10797208531086.762\n",
      "R-squared: 0.41658993078407613\n",
      "Optimal number of trees: 500\n"
     ]
    }
   ],
   "source": [
    "# Model\n",
    "param_grid = {\n",
    "    'n_estimators': [100, 200, 300, 400, 500],\n",
    "}\n",
    "\n",
    "grid_search = GridSearchCV(estimator=RandomForestRegressor(),\n",
    "                            param_grid=param_grid,\n",
    "                            cv=5,\n",
    "                            scoring='r2',\n",
    "                            n_jobs=-1,\n",
    "                            return_train_score=True)\n",
    "\n",
    "grid_search.fit(X_train, y_train)\n",
    "\n",
    "model = grid_search.best_estimator_\n",
    "model.fit(X_train, y_train)\n",
    "\n",
    "# Evaluate\n",
    "y_pred = model.predict(X_test)\n",
    "print(\"Mean Squared Error:\", mean_squared_error(y_test, y_pred))\n",
    "print(\"R-squared:\", r2_score(y_test, y_pred))\n",
    "print(\"Optimal number of trees:\", grid_search.best_params_['n_estimators'])"
   ]
  },
  {
   "cell_type": "code",
   "execution_count": 22,
   "metadata": {},
   "outputs": [
    {
     "data": {
      "image/png": "[encoded data removed]",
      "text/plain": [
       "<Figure size 1000x600 with 1 Axes>"
      ]
     },
     "metadata": {},
     "output_type": "display_data"
    }
   ],
   "source": [
    "cv_results = grid_search.cv_results_\n",
    "mean_test_r2 = cv_results['mean_test_score']\n",
    "mean_train_r2 = cv_results['mean_train_score']\n",
    "n_estimators = param_grid['n_estimators']\n",
    "\n",
    "# Create a plot\n",
    "plt.figure(figsize=(10, 6))\n",
    "sns.lineplot(x=n_estimators, y=mean_test_r2, label=\"Test R^2\", marker='o')\n",
    "sns.lineplot(x=n_estimators, y=mean_train_r2, label=\"Train R^2\", marker='o')\n",
    "\n",
    "plt.title(\"R^2 vs. Number of Trees (Position Players)\", fontsize=16)\n",
    "plt.xlabel(\"Number of Trees\", fontsize=14)\n",
    "plt.ylabel(\"R^2\", fontsize=14)\n",
    "plt.legend(fontsize=12)\n",
    "plt.show()"
   ]
  },
  {
   "cell_type": "code",
   "execution_count": 19,
   "metadata": {},
   "outputs": [
    {
     "name": "stdout",
     "output_type": "stream",
     "text": [
      "Original Model Metrics:\n",
      "Mean Squared Error: 9421300094621.21\n",
      "R-squared: 0.3551616349194193\n",
      "\n",
      "New Model Metrics:\n",
      "Mean Squared Error: 15969006208140.785\n",
      "R-squared: -0.09299435871893436\n",
      "\n",
      "Feature Importances:\n",
      "PO: 0.06660129708467585\n",
      "BB: 0.057526682132277344\n",
      "SO: 0.05312177916369719\n",
      "A: 0.05088621040017005\n",
      "H: 0.043738262271734274\n",
      "G_x: 0.04285062945416857\n",
      "AB: 0.04248184135449001\n",
      "R: 0.041862982541220645\n",
      "time_to_event: 0.04185347794020331\n",
      "DP: 0.041541429466859486\n",
      "RBI: 0.04150835350128893\n",
      "2B: 0.040655004793651146\n",
      "InnOuts: 0.04055109546693166\n",
      "E: 0.03804625156751354\n",
      "GIDP: 0.03790444942246502\n",
      "SB_x: 0.036136415963078206\n",
      "HR: 0.035954374649394154\n",
      "G_y: 0.035194807626336755\n",
      "HBP: 0.032172092304466715\n",
      "SF: 0.03176105197037039\n",
      "IBB: 0.03047425077053959\n",
      "CS_x: 0.029716885839544394\n",
      "3B: 0.028933604703599236\n",
      "GS: 0.028238363362589853\n",
      "SH: 0.026671018266380755\n",
      "decline_event: 0.0036173879823529504\n"
     ]
    }
   ],
   "source": [
    "X_original = salary_prediction_df.drop(columns=['playerID', 'yearID', 'teamID', 'salary', 'target_salary', 'stint_x', 'stint_y'])\n",
    "\n",
    "# Feature set with new columns\n",
    "X_with_new_features = salary_prediction_df.drop(columns=['playerID', 'yearID', 'teamID', 'salary', 'target_salary', 'stint_x', 'stint_y']).copy()\n",
    "X_with_new_features['decline_event'] = salary_prediction_df['decline_event']\n",
    "X_with_new_features['time_to_event'] = salary_prediction_df['time_to_event']\n",
    "\n",
    "# Scale features\n",
    "X_original_scaled = StandardScaler().fit_transform(X_original)\n",
    "X_new_scaled = StandardScaler().fit_transform(X_with_new_features)\n",
    "\n",
    "# Split data\n",
    "X_orig_train, X_orig_test, y_train, y_test = train_test_split(X_original_scaled, y, test_size=0.2)\n",
    "X_new_train, X_new_test, _, _ = train_test_split(X_new_scaled, y, test_size=0.2)\n",
    "\n",
    "# Train models\n",
    "model_original = RandomForestRegressor(n_estimators=100)\n",
    "model_new = RandomForestRegressor(n_estimators=100)\n",
    "\n",
    "model_original.fit(X_orig_train, y_train)\n",
    "model_new.fit(X_new_train, y_train)\n",
    "\n",
    "# Evaluate models\n",
    "y_pred_original = model_original.predict(X_orig_test)\n",
    "y_pred_new = model_new.predict(X_new_test)\n",
    "\n",
    "print(\"Original Model Metrics:\")\n",
    "print(\"Mean Squared Error:\", mean_squared_error(y_test, y_pred_original))\n",
    "print(\"R-squared:\", r2_score(y_test, y_pred_original))\n",
    "\n",
    "print(\"\\nNew Model Metrics:\")\n",
    "print(\"Mean Squared Error:\", mean_squared_error(y_test, y_pred_new))\n",
    "print(\"R-squared:\", r2_score(y_test, y_pred_new))\n",
    "\n",
    "# Feature importance for new model\n",
    "feature_names = list(X_with_new_features.columns)\n",
    "importances = model_new.feature_importances_\n",
    "feature_importance = sorted(zip(feature_names, importances), key=lambda x: x[1], reverse=True)\n",
    "\n",
    "print(\"\\nFeature Importances:\")\n",
    "for name, importance in feature_importance:\n",
    "    print(f\"{name}: {importance}\")"
   ]
  },
  {
   "cell_type": "code",
   "execution_count": null,
   "metadata": {},
   "outputs": [],
   "source": []
  },
  {
   "cell_type": "code",
   "execution_count": null,
   "metadata": {},
   "outputs": [],
   "source": []
  },
  {
   "cell_type": "code",
   "execution_count": null,
   "metadata": {},
   "outputs": [],
   "source": []
  },
  {
   "cell_type": "code",
   "execution_count": null,
   "metadata": {},
   "outputs": [],
   "source": []
  },
  {
   "cell_type": "code",
   "execution_count": null,
   "metadata": {},
   "outputs": [],
   "source": []
  },
  {
   "cell_type": "code",
   "execution_count": null,
   "metadata": {},
   "outputs": [],
   "source": []
  },
  {
   "cell_type": "code",
   "execution_count": null,
   "metadata": {},
   "outputs": [],
   "source": []
  },
  {
   "cell_type": "code",
   "execution_count": null,
   "metadata": {},
   "outputs": [],
   "source": []
  },
  {
   "cell_type": "code",
   "execution_count": null,
   "metadata": {},
   "outputs": [],
   "source": [
    "# Prepare the dataset\n",
    "pitchers_f = pitchers[(pitchers['yearID'] >= 1985) & (pitchers['yearID'] <= 2016)]\n",
    "pitchers_f = pitchers_f.dropna(subset=['salary'])\n",
    "\n",
    "# Create dataset where each row is previous year's stats and current year's salary\n",
    "salary_prediction_df = prepare_salary_prediction_dataset(pitchers_f)\n",
    "\n",
    "# Select features and target\n",
    "X = salary_prediction_df.drop(columns=['playerID', 'yearID', 'teamID', 'salary', 'target_salary', 'stint_x', 'stint_y'])\n",
    "y = salary_prediction_df['target_salary']\n",
    "\n",
    "# Split and scale\n",
    "X_scaled = StandardScaler().fit_transform(X)\n",
    "X_train, X_test, y_train, y_test = train_test_split(X_scaled, y, test_size=0.2, random_state=42)\n",
    "\n",
    "# Model\n",
    "param_grid = {\n",
    "    'n_estimators': [100, 200, 300, 400, 500],\n",
    "}\n",
    "\n",
    "grid_search = GridSearchCV(estimator=RandomForestRegressor(random_state=42),\n",
    "                            param_grid=param_grid,\n",
    "                            cv=5,\n",
    "                            scoring='r2',\n",
    "                            n_jobs=-1,\n",
    "                            return_train_score=True)\n",
    "\n",
    "grid_search.fit(X_train, y_train)\n",
    "\n",
    "model = grid_search.best_estimator_\n",
    "model.fit(X_train, y_train)\n",
    "\n",
    "# Evaluate\n",
    "y_pred = model.predict(X_test)\n",
    "print(\"Mean Squared Error:\", mean_squared_error(y_test, y_pred))\n",
    "print(\"R-squared:\", r2_score(y_test, y_pred))\n",
    "print(\"Optimal number of trees:\", grid_search.best_params_['n_estimators'])"
   ]
  },
  {
   "cell_type": "code",
   "execution_count": null,
   "metadata": {},
   "outputs": [],
   "source": [
    "cv_results = grid_search.cv_results_\n",
    "mean_test_r2 = cv_results['mean_test_score']\n",
    "mean_train_r2 = cv_results['mean_train_score']\n",
    "n_estimators = param_grid['n_estimators']\n",
    "\n",
    "# Create a plot\n",
    "plt.figure(figsize=(10, 6))\n",
    "sns.lineplot(x=n_estimators, y=mean_test_r2, label=\"Test R^2\", marker='o')\n",
    "sns.lineplot(x=n_estimators, y=mean_train_r2, label=\"Train R^2\", marker='o')\n",
    "\n",
    "plt.title(\"R^2 vs. Number of Trees (Pitchers)\", fontsize=16)\n",
    "plt.xlabel(\"Number of Trees\", fontsize=14)\n",
    "plt.ylabel(\"R^2\", fontsize=14)\n",
    "plt.legend(fontsize=12)\n",
    "plt.show()"
   ]
  },
  {
   "cell_type": "code",
   "execution_count": null,
   "metadata": {},
   "outputs": [],
   "source": []
  }
 ],
 "metadata": {
  "kernelspec": {
   "display_name": "Python 3",
   "language": "python",
   "name": "python3"
  },
  "language_info": {
   "codemirror_mode": {
    "name": "ipython",
    "version": 3
   },
   "file_extension": ".py",
   "mimetype": "text/x-python",
   "name": "python",
   "nbconvert_exporter": "python",
   "pygments_lexer": "ipython3",
   "version": "3.11.4"
  }
 },
 "nbformat": 4,
 "nbformat_minor": 2
}
