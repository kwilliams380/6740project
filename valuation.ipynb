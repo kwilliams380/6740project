{
 "cells": [
  {
   "cell_type": "code",
   "execution_count": 51,
   "metadata": {},
   "outputs": [],
   "source": [
    "import pandas as pd\n",
    "import numpy as np\n",
    "import seaborn as sns\n",
    "import matplotlib.pyplot as plt\n",
    "from sklearn.decomposition import PCA\n",
    "from sklearn.preprocessing import StandardScaler\n",
    "from sklearn.model_selection import train_test_split, GridSearchCV\n",
    "from sklearn.ensemble import RandomForestRegressor\n",
    "from sklearn.metrics import mean_squared_error, mean_absolute_error, r2_score"
   ]
  },
  {
   "cell_type": "code",
   "execution_count": 71,
   "metadata": {},
   "outputs": [
    {
     "name": "stderr",
     "output_type": "stream",
     "text": [
      "C:\\Users\\whawkins.RHIT-R90Y2R48\\AppData\\Local\\Temp\\ipykernel_5876\\1936319541.py:30: FutureWarning: The default value of numeric_only in DataFrameGroupBy.sum is deprecated. In a future version, numeric_only will default to False. Either specify numeric_only or select only columns which should be valid for the function.\n",
      "  .agg('sum')\n"
     ]
    }
   ],
   "source": [
    "fielding = pd.read_csv('Data/Lahman/Fielding.csv')\n",
    "batting = pd.read_csv('Data/Lahman/Batting.csv')\n",
    "pitching = pd.read_csv('Data/Lahman/Pitching.csv')\n",
    "players = pd.read_csv('Data/Lahman/People.csv', encoding='latin1')\n",
    "salaries = pd.read_csv('Data/Lahman/Salaries.csv')\n",
    "survival_data = pd.read_csv('SurvivalData.csv')\n",
    "\n",
    "pitching_cols = [\n",
    "    'playerID', 'yearID', 'teamID', 'stint', 'W', 'L', 'G', 'GS', 'CG', 'SHO', 'SV', \n",
    "    'IPouts', 'H', 'ER', 'HR', 'BB', 'SO', 'BAOpp', 'ERA', 'WP', 'BK', 'BFP', 'GF'\n",
    "]\n",
    "\n",
    "# Combine batting and fielding columns for position players\n",
    "batting_cols = [\n",
    "    'playerID', 'yearID', 'teamID', 'stint', 'G', 'AB', 'R', 'H', '2B', '3B', 'HR', \n",
    "    'RBI', 'SB', 'CS', 'BB', 'SO', 'IBB', 'HBP', 'SH', 'SF', 'GIDP'\n",
    "]\n",
    "fielding_cols = [\n",
    "    'playerID', 'yearID', 'teamID', 'stint', 'POS', 'G', 'GS', 'InnOuts', 'PO', 'A', \n",
    "    'E', 'DP', 'PB', 'WP', 'SB', 'CS', 'ZR'\n",
    "]\n",
    "\n",
    "pitching = pitching[pitching_cols]\n",
    "batting = batting[batting_cols]\n",
    "fielding = fielding[fielding_cols]\n",
    "players = players[['playerID', 'birthYear']]\n",
    "\n",
    "fielding = (\n",
    "    fielding.groupby(['playerID', 'yearID', 'teamID', 'stint'])\n",
    "    .agg('sum')\n",
    "    .reset_index()\n",
    ")\n",
    "\n",
    "position_players = pd.merge(batting, fielding, on=['playerID', 'yearID', 'teamID'], how='outer')\n",
    "position_players = pd.merge(position_players, salaries.drop('lgID',axis=1), on=['playerID', 'yearID', 'teamID'], how='left')\n",
    "position_players = position_players.drop(columns=['PB', 'WP', 'SB_y', 'CS_y', 'ZR'])\n",
    "position_players = position_players.merge(survival_data[['playerID', 'yearID', 'decline_event', 'time_to_event']],\n",
    "                                               on=['playerID', 'yearID'], how='left')\n",
    "\n",
    "pitchers = pd.merge(pitching, salaries, on=['playerID', 'yearID', 'teamID'], how='left')\n",
    "pitchers = pitchers.merge(survival_data[['playerID', 'yearID', 'decline_event', 'time_to_event']],\n",
    "                            on=['playerID', 'yearID'], how='left')"
   ]
  },
  {
   "cell_type": "code",
   "execution_count": 53,
   "metadata": {},
   "outputs": [],
   "source": [
    "def prepare_salary_prediction_dataset(df):\n",
    "    df = df.sort_values(['playerID', 'yearID'])\n",
    "    \n",
    "    # Create a list to store valid rows\n",
    "    valid_rows = []\n",
    "    \n",
    "    # Group by player\n",
    "    for _, player_group in df.groupby('playerID'):\n",
    "        # Iterate through player's seasons\n",
    "        for i in range(1, len(player_group)):\n",
    "            # Previous season's stats\n",
    "            prev_stats = player_group.iloc[i-1]\n",
    "            # Current season's salary\n",
    "            current_salary = player_group.iloc[i]['salary']\n",
    "            \n",
    "            # Create a row with previous year's stats and current year's salary\n",
    "            row = prev_stats.copy()\n",
    "            row['target_salary'] = current_salary\n",
    "            valid_rows.append(row)\n",
    "    \n",
    "    # Convert to DataFrame\n",
    "    prepared_df = pd.DataFrame(valid_rows)\n",
    "    \n",
    "    return prepared_df"
   ]
  },
  {
   "cell_type": "code",
   "execution_count": 54,
   "metadata": {},
   "outputs": [],
   "source": [
    "# Prepare the dataset\n",
    "position_players_f = position_players[(position_players['yearID'] >= 1985) & (position_players['yearID'] <= 2016)]\n",
    "position_players_f = position_players_f.dropna(subset=['salary', 'decline_event'])\n",
    "\n",
    "# Create dataset where each row is previous year's stats and current year's salary\n",
    "salary_prediction_df = prepare_salary_prediction_dataset(position_players_f)\n",
    "\n",
    "# Select features and target\n",
    "X = salary_prediction_df.drop(columns=['playerID', 'yearID', 'teamID', 'salary', 'target_salary', 'stint_x', 'stint_y'])\n",
    "y = salary_prediction_df['target_salary']\n",
    "\n",
    "# Split and scale\n",
    "X_scaled = StandardScaler().fit_transform(X)\n",
    "X_train, X_test, y_train, y_test = train_test_split(X_scaled, y, test_size=0.2)"
   ]
  },
  {
   "cell_type": "code",
   "execution_count": 55,
   "metadata": {},
   "outputs": [
    {
     "name": "stdout",
     "output_type": "stream",
     "text": [
      "Mean Squared Error: 12209717259633.773\n",
      "R-squared: 0.41201022236066365\n",
      "Optimal number of trees: 500\n"
     ]
    }
   ],
   "source": [
    "# Model\n",
    "param_grid = {\n",
    "    'n_estimators': [20,40,80,160,320,500],\n",
    "}\n",
    "\n",
    "grid_search = GridSearchCV(estimator=RandomForestRegressor(),\n",
    "                            param_grid=param_grid,\n",
    "                            cv=5,\n",
    "                            scoring='r2',\n",
    "                            n_jobs=-1,\n",
    "                            return_train_score=True)\n",
    "\n",
    "grid_search.fit(X_train, y_train)\n",
    "\n",
    "model = grid_search.best_estimator_\n",
    "model.fit(X_train, y_train)\n",
    "\n",
    "# Evaluate\n",
    "y_pred = model.predict(X_test)\n",
    "print(\"Mean Squared Error:\", mean_squared_error(y_test, y_pred))\n",
    "print(\"R-squared:\", r2_score(y_test, y_pred))\n",
    "print(\"Optimal number of trees:\", grid_search.best_params_['n_estimators'])"
   ]
  },
  {
   "cell_type": "code",
   "execution_count": 56,
   "metadata": {},
   "outputs": [
    {
     "data": {
      "image/png": "[encoded data removed]",
      "text/plain": [
       "<Figure size 1000x600 with 1 Axes>"
      ]
     },
     "metadata": {},
     "output_type": "display_data"
    }
   ],
   "source": [
    "cv_results = grid_search.cv_results_\n",
    "mean_test_r2 = cv_results['mean_test_score']\n",
    "mean_train_r2 = cv_results['mean_train_score']\n",
    "n_estimators = param_grid['n_estimators']\n",
    "\n",
    "# Create a plot\n",
    "plt.figure(figsize=(10, 6))\n",
    "sns.lineplot(x=n_estimators, y=mean_test_r2, label=\"Test R^2\", marker='o')\n",
    "sns.lineplot(x=n_estimators, y=mean_train_r2, label=\"Train R^2\", marker='o')\n",
    "\n",
    "plt.title(\"R^2 vs. Number of Trees (Position Players)\", fontsize=16)\n",
    "plt.xlabel(\"Number of Trees\", fontsize=14)\n",
    "plt.ylabel(\"R^2\", fontsize=14)\n",
    "plt.legend(fontsize=12)\n",
    "plt.show()"
   ]
  },
  {
   "cell_type": "code",
   "execution_count": 57,
   "metadata": {},
   "outputs": [
    {
     "name": "stdout",
     "output_type": "stream",
     "text": [
      "Original Model Metrics:\n",
      "Mean Squared Error: 10324533397837.762\n",
      "R-squared: 0.3928088978028521\n",
      "\n",
      "New Model Metrics:\n",
      "Mean Squared Error: 18158780787687.68\n",
      "R-squared: -0.06792720757158777\n",
      "\n",
      "Feature Importances:\n",
      "PO: 0.06129515526479405\n",
      "BB: 0.0553739593291588\n",
      "SO: 0.05405509833410059\n",
      "A: 0.05074547968344885\n",
      "RBI: 0.04761951484179526\n",
      "G_x: 0.045755803472027165\n",
      "R: 0.045349668813651094\n",
      "AB: 0.042928634474297137\n",
      "time_to_event: 0.04195008998745275\n",
      "SB_x: 0.04179987490865173\n",
      "H: 0.041336812378922935\n",
      "G_y: 0.03984840296022848\n",
      "GIDP: 0.03961667551834241\n",
      "2B: 0.03897949476106683\n",
      "DP: 0.03844280172929131\n",
      "InnOuts: 0.03765558573618205\n",
      "HR: 0.03671059007383099\n",
      "E: 0.035478546766958934\n",
      "IBB: 0.03513625073898387\n",
      "HBP: 0.03164574413387362\n",
      "SF: 0.030033385511697687\n",
      "GS: 0.02922509152669515\n",
      "3B: 0.027667126510886562\n",
      "CS_x: 0.02709540265774108\n",
      "SH: 0.020497276445125345\n",
      "decline_event: 0.0037575334407954687\n"
     ]
    }
   ],
   "source": [
    "X_original = salary_prediction_df.drop(columns=['playerID', 'yearID', 'teamID', 'salary', 'target_salary', 'stint_x', 'stint_y'])\n",
    "\n",
    "# Feature set with new columns\n",
    "X_with_new_features = salary_prediction_df.drop(columns=['playerID', 'yearID', 'teamID', 'salary', 'target_salary', 'stint_x', 'stint_y']).copy()\n",
    "X_with_new_features['decline_event'] = salary_prediction_df['decline_event']\n",
    "X_with_new_features['time_to_event'] = salary_prediction_df['time_to_event']\n",
    "\n",
    "# Scale features\n",
    "X_original_scaled = StandardScaler().fit_transform(X_original)\n",
    "X_new_scaled = StandardScaler().fit_transform(X_with_new_features)\n",
    "\n",
    "# Split data\n",
    "X_orig_train, X_orig_test, y_train, y_test = train_test_split(X_original_scaled, y, test_size=0.2)\n",
    "X_new_train, X_new_test, _, _ = train_test_split(X_new_scaled, y, test_size=0.2)\n",
    "\n",
    "# Train models\n",
    "model_original = RandomForestRegressor(n_estimators=160)\n",
    "model_new = RandomForestRegressor(n_estimators=160)\n",
    "\n",
    "model_original.fit(X_orig_train, y_train)\n",
    "model_new.fit(X_new_train, y_train)\n",
    "\n",
    "# Evaluate models\n",
    "y_pred_original = model_original.predict(X_orig_test)\n",
    "y_pred_new = model_new.predict(X_new_test)\n",
    "\n",
    "print(\"Original Model Metrics:\")\n",
    "print(\"Mean Squared Error:\", mean_squared_error(y_test, y_pred_original))\n",
    "print(\"R-squared:\", r2_score(y_test, y_pred_original))\n",
    "\n",
    "print(\"\\nNew Model Metrics:\")\n",
    "print(\"Mean Squared Error:\", mean_squared_error(y_test, y_pred_new))\n",
    "print(\"R-squared:\", r2_score(y_test, y_pred_new))\n",
    "\n",
    "# Feature importance for new model\n",
    "feature_names = list(X_with_new_features.columns)\n",
    "importances = model_new.feature_importances_\n",
    "feature_importance = sorted(zip(feature_names, importances), key=lambda x: x[1], reverse=True)\n",
    "\n",
    "print(\"\\nFeature Importances:\")\n",
    "for name, importance in feature_importance:\n",
    "    print(f\"{name}: {importance}\")"
   ]
  },
  {
   "cell_type": "code",
   "execution_count": 58,
   "metadata": {},
   "outputs": [
    {
     "data": {
      "text/plain": [
       "array([0.34998558, 0.36356864, 0.37529965, 0.37996   , 0.37808319,\n",
       "       0.38164433])"
      ]
     },
     "execution_count": 58,
     "metadata": {},
     "output_type": "execute_result"
    }
   ],
   "source": [
    "mean_test_r2"
   ]
  },
  {
   "cell_type": "code",
   "execution_count": 59,
   "metadata": {},
   "outputs": [
    {
     "data": {
      "text/plain": [
       "array([0.8960382 , 0.90590994, 0.91151326, 0.91458926, 0.91481142,\n",
       "       0.91543278])"
      ]
     },
     "execution_count": 59,
     "metadata": {},
     "output_type": "execute_result"
    }
   ],
   "source": [
    "mean_train_r2"
   ]
  },
  {
   "cell_type": "code",
   "execution_count": 61,
   "metadata": {},
   "outputs": [
    {
     "data": {
      "text/plain": [
       "0.0016799999999999593"
      ]
     },
     "execution_count": 61,
     "metadata": {},
     "output_type": "execute_result"
    }
   ],
   "source": [
    ".38164-.37996"
   ]
  },
  {
   "cell_type": "code",
   "execution_count": null,
   "metadata": {},
   "outputs": [],
   "source": []
  },
  {
   "cell_type": "code",
   "execution_count": 73,
   "metadata": {},
   "outputs": [
    {
     "name": "stdout",
     "output_type": "stream",
     "text": [
      "Mean Squared Error: 7389645181718.149\n",
      "R-squared: 0.3367712703885338\n",
      "Optimal number of trees: 500\n"
     ]
    }
   ],
   "source": [
    "# Prepare the dataset\n",
    "pitchers_f = pitchers[(pitchers['yearID'] >= 1985) & (pitchers['yearID'] <= 2016)]\n",
    "pitchers_f = pitchers_f.dropna(subset=['salary'])\n",
    "\n",
    "# Create dataset where each row is previous year's stats and current year's salary\n",
    "salary_prediction_df = prepare_salary_prediction_dataset(pitchers_f)\n",
    "\n",
    "# Select features and target\n",
    "X = salary_prediction_df.drop(columns=['playerID', 'yearID', 'teamID', 'lgID', 'salary', 'target_salary', 'stint'])\n",
    "y = salary_prediction_df['target_salary']\n",
    "\n",
    "# Split and scale\n",
    "X_scaled = StandardScaler().fit_transform(X)\n",
    "X_train, X_test, y_train, y_test = train_test_split(X_scaled, y, test_size=0.2, random_state=42)\n",
    "\n",
    "# Model\n",
    "param_grid = {\n",
    "    'n_estimators': [20,40,80,160,320,500],\n",
    "}\n",
    "\n",
    "grid_search = GridSearchCV(estimator=RandomForestRegressor(random_state=42),\n",
    "                            param_grid=param_grid,\n",
    "                            cv=5,\n",
    "                            scoring='r2',\n",
    "                            n_jobs=-1,\n",
    "                            return_train_score=True)\n",
    "\n",
    "grid_search.fit(X_train, y_train)\n",
    "\n",
    "model = grid_search.best_estimator_\n",
    "model.fit(X_train, y_train)\n",
    "\n",
    "# Evaluate\n",
    "y_pred = model.predict(X_test)\n",
    "print(\"Mean Squared Error:\", mean_squared_error(y_test, y_pred))\n",
    "print(\"R-squared:\", r2_score(y_test, y_pred))\n",
    "print(\"Optimal number of trees:\", grid_search.best_params_['n_estimators'])"
   ]
  },
  {
   "cell_type": "code",
   "execution_count": 74,
   "metadata": {},
   "outputs": [
    {
     "data": {
      "image/png": "[encoded data removed]",
      "text/plain": [
       "<Figure size 1000x600 with 1 Axes>"
      ]
     },
     "metadata": {},
     "output_type": "display_data"
    }
   ],
   "source": [
    "cv_results = grid_search.cv_results_\n",
    "mean_test_r2 = cv_results['mean_test_score']\n",
    "mean_train_r2 = cv_results['mean_train_score']\n",
    "n_estimators = param_grid['n_estimators']\n",
    "\n",
    "# Create a plot\n",
    "plt.figure(figsize=(10, 6))\n",
    "sns.lineplot(x=n_estimators, y=mean_test_r2, label=\"Test R^2\", marker='o')\n",
    "sns.lineplot(x=n_estimators, y=mean_train_r2, label=\"Train R^2\", marker='o')\n",
    "\n",
    "plt.title(\"R^2 vs. Number of Trees (Pitchers)\", fontsize=16)\n",
    "plt.xlabel(\"Number of Trees\", fontsize=14)\n",
    "plt.ylabel(\"R^2\", fontsize=14)\n",
    "plt.legend(fontsize=12)\n",
    "plt.show()"
   ]
  },
  {
   "cell_type": "code",
   "execution_count": 75,
   "metadata": {},
   "outputs": [
    {
     "name": "stdout",
     "output_type": "stream",
     "text": [
      "Original Model Metrics:\n",
      "Mean Squared Error: 8556228344444.647\n",
      "R-squared: 0.24805560530694448\n",
      "\n",
      "New Model Metrics:\n",
      "Mean Squared Error: 12059126722790.738\n",
      "R-squared: -0.05978853988664645\n",
      "\n",
      "Feature Importances:\n",
      "ERA: 0.09012972985893983\n",
      "SO: 0.0882946239781197\n",
      "BAOpp: 0.08540181176033221\n",
      "BB: 0.08045305774089098\n",
      "G: 0.07083965812978657\n",
      "H: 0.064034002496098\n",
      "HR: 0.06379128192760988\n",
      "BFP: 0.05987582117012805\n",
      "IPouts: 0.05827343807815392\n",
      "WP: 0.051878806471176375\n",
      "ER: 0.05182776419222991\n",
      "L: 0.04879368324337639\n",
      "W: 0.04492519404851019\n",
      "GF: 0.04271719449178198\n",
      "SV: 0.02420216489699115\n",
      "BK: 0.02337540850744998\n",
      "GS: 0.023201973046314557\n",
      "CG: 0.018572603143781508\n",
      "SHO: 0.00911999347988212\n",
      "time_to_event: 0.000244804331931148\n",
      "decline_event: 4.69850065155855e-05\n"
     ]
    }
   ],
   "source": [
    "X_original = salary_prediction_df.drop(columns=['playerID', 'yearID', 'teamID', 'lgID', 'salary', 'target_salary', 'stint'])\n",
    "\n",
    "# Feature set with new columns\n",
    "X_with_new_features = salary_prediction_df.drop(columns=['playerID', 'yearID', 'teamID', 'lgID', 'salary', 'target_salary', 'stint']).copy()\n",
    "X_with_new_features['decline_event'] = salary_prediction_df['decline_event']\n",
    "X_with_new_features['time_to_event'] = salary_prediction_df['time_to_event']\n",
    "\n",
    "# Scale features\n",
    "X_original_scaled = StandardScaler().fit_transform(X_original)\n",
    "X_new_scaled = StandardScaler().fit_transform(X_with_new_features)\n",
    "\n",
    "# Split data\n",
    "X_orig_train, X_orig_test, y_train, y_test = train_test_split(X_original_scaled, y, test_size=0.2)\n",
    "X_new_train, X_new_test, _, _ = train_test_split(X_new_scaled, y, test_size=0.2)\n",
    "\n",
    "# Train models\n",
    "model_original = RandomForestRegressor(n_estimators=160)\n",
    "model_new = RandomForestRegressor(n_estimators=160)\n",
    "\n",
    "model_original.fit(X_orig_train, y_train)\n",
    "model_new.fit(X_new_train, y_train)\n",
    "\n",
    "# Evaluate models\n",
    "y_pred_original = model_original.predict(X_orig_test)\n",
    "y_pred_new = model_new.predict(X_new_test)\n",
    "\n",
    "print(\"Original Model Metrics:\")\n",
    "print(\"Mean Squared Error:\", mean_squared_error(y_test, y_pred_original))\n",
    "print(\"R-squared:\", r2_score(y_test, y_pred_original))\n",
    "\n",
    "print(\"\\nNew Model Metrics:\")\n",
    "print(\"Mean Squared Error:\", mean_squared_error(y_test, y_pred_new))\n",
    "print(\"R-squared:\", r2_score(y_test, y_pred_new))\n",
    "\n",
    "# Feature importance for new model\n",
    "feature_names = list(X_with_new_features.columns)\n",
    "importances = model_new.feature_importances_\n",
    "feature_importance = sorted(zip(feature_names, importances), key=lambda x: x[1], reverse=True)\n",
    "\n",
    "print(\"\\nFeature Importances:\")\n",
    "for name, importance in feature_importance:\n",
    "    print(f\"{name}: {importance}\")"
   ]
  },
  {
   "cell_type": "code",
   "execution_count": null,
   "metadata": {},
   "outputs": [],
   "source": []
  },
  {
   "cell_type": "code",
   "execution_count": 66,
   "metadata": {},
   "outputs": [
    {
     "data": {
      "text/plain": [
       "array([0.88469094, 0.89617007, 0.9020187 , 0.90436865, 0.90586491,\n",
       "       0.90618521])"
      ]
     },
     "execution_count": 66,
     "metadata": {},
     "output_type": "execute_result"
    }
   ],
   "source": [
    "mean_train_r2"
   ]
  },
  {
   "cell_type": "code",
   "execution_count": 67,
   "metadata": {},
   "outputs": [
    {
     "data": {
      "text/plain": [
       "array([0.27020695, 0.29439603, 0.30561781, 0.30891856, 0.3102134 ,\n",
       "       0.3121551 ])"
      ]
     },
     "execution_count": 67,
     "metadata": {},
     "output_type": "execute_result"
    }
   ],
   "source": [
    "mean_test_r2"
   ]
  },
  {
   "cell_type": "code",
   "execution_count": 68,
   "metadata": {},
   "outputs": [
    {
     "data": {
      "text/plain": [
       "0.0018399999999999528"
      ]
     },
     "execution_count": 68,
     "metadata": {},
     "output_type": "execute_result"
    }
   ],
   "source": [
    ".9062-.90436"
   ]
  },
  {
   "cell_type": "code",
   "execution_count": 69,
   "metadata": {},
   "outputs": [
    {
     "data": {
      "text/plain": [
       "0.003236400000000028"
      ]
     },
     "execution_count": 69,
     "metadata": {},
     "output_type": "execute_result"
    }
   ],
   "source": [
    ".312155-.3089186"
   ]
  },
  {
   "cell_type": "code",
   "execution_count": null,
   "metadata": {},
   "outputs": [],
   "source": []
  }
 ],
 "metadata": {
  "kernelspec": {
   "display_name": "Python 3",
   "language": "python",
   "name": "python3"
  },
  "language_info": {
   "codemirror_mode": {
    "name": "ipython",
    "version": 3
   },
   "file_extension": ".py",
   "mimetype": "text/x-python",
   "name": "python",
   "nbconvert_exporter": "python",
   "pygments_lexer": "ipython3",
   "version": "3.11.4"
  }
 },
 "nbformat": 4,
 "nbformat_minor": 2
}
